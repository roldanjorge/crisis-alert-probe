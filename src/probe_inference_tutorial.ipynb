{
  "cells": [
    {
      "cell_type": "markdown",
      "metadata": {},
      "source": [
        "# Using Trained Probes for Emotional State Inference\n",
        "\n",
        "This notebook demonstrates how to use your trained emotional state probes with LLaMA-2 for inference on new text.\n",
        "\n",
        "## Overview\n",
        "\n",
        "You have trained probes on 40 layers of LLaMA-2-13b-chat-hf to classify emotional states into 7 categories:\n",
        "- very_happy (0)\n",
        "- happy (1) \n",
        "- slightly_positive (2)\n",
        "- neutral (3)\n",
        "- slightly_negative (4)\n",
        "- sad (5)\n",
        "- very_sad (6)\n",
        "\n",
        "The probes achieved excellent performance, with layer 39 reaching perfect accuracy (1.0) on the validation set.\n"
      ]
    },
    {
      "cell_type": "markdown",
      "metadata": {},
      "source": [
        "## Step 1: Setup and Imports\n"
      ]
    },
    {
      "cell_type": "code",
      "execution_count": null,
      "metadata": {},
      "outputs": [],
      "source": [
        "import torch\n",
        "import pandas as pd\n",
        "from transformer_lens import HookedTransformer\n",
        "from transformer_lens.utils import get_device\n",
        "from probes import Probe\n",
        "from utils import llama_v2_prompt\n",
        "import matplotlib.pyplot as plt\n",
        "import seaborn as sns\n",
        "\n",
        "# Set up device\n",
        "device = get_device()\n",
        "print(f\"Using device: {device}\")\n"
      ]
    }
  ],
  "metadata": {
    "language_info": {
      "name": "python"
    }
  },
  "nbformat": 4,
  "nbformat_minor": 2
}
